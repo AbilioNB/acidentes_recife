{
 "cells": [
  {
   "cell_type": "code",
   "execution_count": 1,
   "metadata": {},
   "outputs": [],
   "source": [
    "import pandas as pd"
   ]
  },
  {
   "cell_type": "code",
   "execution_count": null,
   "metadata": {},
   "outputs": [],
   "source": [
    "def carregar_df(caminho_arquivo, colunas_alvo):\n",
    "    return pd.read_csv(caminho_arquivo, usecols=colunas_alvo, sep=';')\n",
    "\n",
    "def processar_df(ano, caminho_arquivo, colunas_alvo, colunas_finais):\n",
    "    df_ano = carregar_df(caminho_arquivo, colunas_alvo)\n",
    "    df_ano.columns = colunas_finais\n",
    "    return df_ano  "
   ]
  },
  {
   "cell_type": "code",
   "execution_count": 2,
   "metadata": {},
   "outputs": [],
   "source": [
    "colunas_finais = ['DATA',\n",
    "'HORA',\n",
    "'NATUREZA_ACIDENTE',\n",
    "'BAIRRO',\n",
    "'BAIRRO_CRUZAMENTO',\n",
    "'TIPO',\n",
    "'AUTOMOVEL_ENVOLVIDO',\n",
    "'MOTO_ENVOLVIDA',\n",
    "'CICLO_MOTOR_ENVOLVIDO',\n",
    "'CICLISTA_ENVOLVIDO',\n",
    "'PEDESTRE_ENVOLVIDO',\n",
    "'ONIBUS_ENVOLVIDO',\n",
    "'CAMINHAO_ENVOLVIDO',\n",
    "'VIATURA_ENVOLVIDA',\n",
    "'OUTROS_ENVOLVIDO',\n",
    "'NUM_VITIMAS',\n",
    "'NUM_VITIMAS_FATAIS']\n",
    "mapeamento_2019 = ['DATA',\n",
    "'hora',\n",
    "'natureza_acidente',\n",
    "'bairro',\n",
    "'bairro_cruzamento',\n",
    "'tipo',\n",
    "'auto',\n",
    "'moto',\n",
    "'ciclom',\n",
    "'ciclista',\n",
    "'pedestre',\n",
    "'onibus',\n",
    "'caminhao',\n",
    "'viatura',\n",
    "'outros',\n",
    "'vitimas',\n",
    "'vitimasfatais']\n",
    "mapeamento_2020_2021 = ['data',\n",
    "'hora',\n",
    "'natureza_acidente',\n",
    "'bairro',\n",
    "'bairro_cruzamento',\n",
    "'tipo',\n",
    "'auto',\n",
    "'moto',\n",
    "'ciclom',\n",
    "'ciclista',\n",
    "'pedestre',\n",
    "'onibus',\n",
    "'caminhao',\n",
    "'viatura',\n",
    "'outros',\n",
    "'vitimas',\n",
    "'vitimasfatais']\n",
    "mapeamento_2022 = ['data',\n",
    "'hora',\n",
    "'natureza',\n",
    "'bairro',\n",
    "'bairro_cruzamento',\n",
    "'tipo',\n",
    "'auto',\n",
    "'moto',\n",
    "'ciclom',\n",
    "'ciclista',\n",
    "'pedestre',\n",
    "'onibus',\n",
    "'caminhao',\n",
    "'viatura',\n",
    "'outros',\n",
    "'vitimas',\n",
    "'vitimasfatais']"
   ]
  },
  {
   "cell_type": "markdown",
   "metadata": {},
   "source": [
    "# Processamento das bases de acidentes 2019-2022"
   ]
  },
  {
   "cell_type": "markdown",
   "metadata": {},
   "source": [
    "## Carregamento das bases e adequação das colunas"
   ]
  },
  {
   "cell_type": "code",
   "execution_count": 4,
   "metadata": {},
   "outputs": [],
   "source": [
    "pre_processamento = {\n",
    "    2019:{ 'caminho_arquivo':'data/raw/acidentes-2019.csv', 'colunas_alvo':mapeamento_2019},\n",
    "    2020:{ 'caminho_arquivo':'data/raw/acidentes_2020-novo.csv', 'colunas_alvo':mapeamento_2020_2021},\n",
    "    2021:{ 'caminho_arquivo':'data/raw/acidentes2021.csv', 'colunas_alvo':mapeamento_2020_2021},\n",
    "    2022:{ 'caminho_arquivo':'data/raw/acidentes2022.csv', 'colunas_alvo':mapeamento_2022}   \n",
    "}"
   ]
  },
  {
   "cell_type": "code",
   "execution_count": 5,
   "metadata": {},
   "outputs": [],
   "source": [
    "pos_processamento = []\n",
    "for ano in range(2019,2023,1):\n",
    "    pos_processamento.append(processar_df(ano, pre_processamento[ano]['caminho_arquivo'], \n",
    "                                          pre_processamento[ano]['colunas_alvo'], \n",
    "                                          colunas_finais))\n",
    "    "
   ]
  },
  {
   "cell_type": "code",
   "execution_count": 6,
   "metadata": {},
   "outputs": [],
   "source": [
    "base_bruta = pd.concat(pos_processamento)\n"
   ]
  },
  {
   "cell_type": "markdown",
   "metadata": {},
   "source": [
    "## Otimização da base"
   ]
  },
  {
   "cell_type": "code",
   "execution_count": 8,
   "metadata": {},
   "outputs": [],
   "source": [
    "colunas_a_zerar = ['AUTOMOVEL_ENVOLVIDO', 'MOTO_ENVOLVIDA',\n",
    "       'CICLO_MOTOR_ENVOLVIDO', 'CICLISTA_ENVOLVIDO', 'PEDESTRE_ENVOLVIDO',\n",
    "       'ONIBUS_ENVOLVIDO', 'CAMINHAO_ENVOLVIDO', 'VIATURA_ENVOLVIDA',\n",
    "       'OUTROS_ENVOLVIDO', 'NUM_VITIMAS_FATAIS']"
   ]
  },
  {
   "cell_type": "markdown",
   "metadata": {},
   "source": [
    "Valores ausentes durante a descrição dos veiculos informados serão definidos como 0 pois não foram totalmente preenchidos ou constam-se como ausentes durante o acidente."
   ]
  },
  {
   "cell_type": "code",
   "execution_count": 9,
   "metadata": {},
   "outputs": [],
   "source": [
    "base_bruta[colunas_a_zerar] = base_bruta[colunas_a_zerar].fillna(0)"
   ]
  },
  {
   "cell_type": "code",
   "execution_count": 10,
   "metadata": {},
   "outputs": [],
   "source": [
    "base_removida = base_bruta.dropna()"
   ]
  },
  {
   "cell_type": "markdown",
   "metadata": {},
   "source": [
    "### Processamento dos campos  data"
   ]
  },
  {
   "cell_type": "code",
   "execution_count": 60,
   "metadata": {},
   "outputs": [],
   "source": [
    "def gerar_coluna_data(df, coluna_data):\n",
    "    if coluna_data not in df.columns:\n",
    "        print(f\"A coluna '{coluna_data}' não existe no DataFrame.\")\n",
    "        return df\n",
    "    \n",
    "    df[coluna_data] = pd.to_datetime(df[coluna_data])\n",
    "    df['DIA'] = df[coluna_data].dt.day\n",
    "    df['MES'] = df[coluna_data].dt.month\n",
    "    df['ANO'] = df[coluna_data].dt.year\n",
    "    return df"
   ]
  },
  {
   "cell_type": "code",
   "execution_count": null,
   "metadata": {},
   "outputs": [],
   "source": [
    "base_otimizada = gerar_coluna_data(base_removida, \"DATA\")"
   ]
  },
  {
   "cell_type": "markdown",
   "metadata": {},
   "source": [
    "### Processamento do campo hora"
   ]
  },
  {
   "cell_type": "code",
   "execution_count": 83,
   "metadata": {},
   "outputs": [],
   "source": [
    "def classificar_turnos(df, nome_coluna_hora):\n",
    "    if nome_coluna_hora not in df.columns:\n",
    "        print(f\"A coluna '{nome_coluna_hora}' não existe no DataFrame.\")\n",
    "        return df\n",
    "    \n",
    "    # Remove registros com formato de hora inválido\n",
    "    df = df[df[nome_coluna_hora].apply(verificar_hora_valida)]\n",
    "    \n",
    "    df[nome_coluna_hora] = pd.to_datetime(df[nome_coluna_hora])\n",
    "    df['TURNO'] = df[nome_coluna_hora].apply(lambda x: classificar_turno(x.time() if isinstance(x, pd.Timestamp) else None))\n",
    "\n",
    "    return df\n",
    "\n",
    "def verificar_hora_valida(hora):\n",
    "    try:\n",
    "        pd.to_datetime(hora)\n",
    "        return True\n",
    "    except ValueError:\n",
    "        return False\n",
    "\n",
    "def classificar_turno(hora):\n",
    "    if hora is None:\n",
    "        return None\n",
    "\n",
    "    hora_str = hora.strftime('%H:%M:%S')\n",
    "    \n",
    "    if '06:00:00' <= hora_str < '12:00:00':\n",
    "        return 'MANHÃ'\n",
    "    elif '12:00:00' <= hora_str < '18:00:00':\n",
    "        return 'TARDE'\n",
    "    elif '18:00:00' <= hora_str <= '23:59:59':\n",
    "        return 'NOITE'\n",
    "    else:\n",
    "        return 'MADRUGADA'"
   ]
  },
  {
   "cell_type": "code",
   "execution_count": null,
   "metadata": {},
   "outputs": [],
   "source": [
    "base_otimizada = classificar_turnos(base_otimizada,'HORA')"
   ]
  },
  {
   "cell_type": "markdown",
   "metadata": {},
   "source": [
    "O ano de 2022 tinha sido considerado até a confirmação que a base nesse ano não disponibilizaria o campo HORA, sendo assim inviável para a utilização nessa etapa, com isso o escopo foi reduzido para 2019-2021. Com isso, assim que a base seja completada por sua fonte, ela possa integrar a base final sem qualquer nescessidade de revisão."
   ]
  },
  {
   "cell_type": "markdown",
   "metadata": {},
   "source": [
    "## Exportação da base"
   ]
  },
  {
   "cell_type": "code",
   "execution_count": 88,
   "metadata": {},
   "outputs": [],
   "source": [
    "base_otimizada.to_parquet('base_acidentes_processada')"
   ]
  },
  {
   "cell_type": "code",
   "execution_count": null,
   "metadata": {},
   "outputs": [],
   "source": []
  }
 ],
 "metadata": {
  "kernelspec": {
   "display_name": "Python 3",
   "language": "python",
   "name": "python3"
  },
  "language_info": {
   "codemirror_mode": {
    "name": "ipython",
    "version": 3
   },
   "file_extension": ".py",
   "mimetype": "text/x-python",
   "name": "python",
   "nbconvert_exporter": "python",
   "pygments_lexer": "ipython3",
   "version": "3.10.4"
  },
  "orig_nbformat": 4
 },
 "nbformat": 4,
 "nbformat_minor": 2
}
