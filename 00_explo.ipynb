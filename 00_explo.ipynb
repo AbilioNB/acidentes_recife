{
 "cells": [
  {
   "cell_type": "code",
   "execution_count": 23,
   "metadata": {},
   "outputs": [],
   "source": [
    "def null_percentage(df):\n",
    "    total_rows = len(df)\n",
    "    null_counts = df.isnull().sum()\n",
    "    null_percentages = (null_counts / total_rows) * 100\n",
    "    result_df = pd.DataFrame({\n",
    "        'Null Count': null_counts,\n",
    "        'Null Percentage (%)': null_percentages\n",
    "    })\n",
    "    return result_df"
   ]
  },
  {
   "cell_type": "code",
   "execution_count": 24,
   "metadata": {},
   "outputs": [],
   "source": [
    "import pandas as pd"
   ]
  },
  {
   "cell_type": "code",
   "execution_count": 42,
   "metadata": {},
   "outputs": [],
   "source": [
    "base = pd.read_csv('data/raw/acidentes2022.csv', on_bad_lines = 'warn',sep=';')"
   ]
  },
  {
   "cell_type": "code",
   "execution_count": 43,
   "metadata": {},
   "outputs": [],
   "source": [
    "null_info = null_percentage(base)"
   ]
  },
  {
   "cell_type": "code",
   "execution_count": 44,
   "metadata": {},
   "outputs": [
    {
     "name": "stdout",
     "output_type": "stream",
     "text": [
      "Protocolo\n",
      "data\n",
      "hora\n",
      "natureza\n",
      "situacao\n",
      "bairro\n",
      "endereco\n",
      "numero\n",
      "detalhe_endereco_acidente\n",
      "complemento\n",
      "bairro_cruzamento\n",
      "num_semaforo\n",
      "sentido_via\n",
      "tipo\n",
      "auto\n",
      "moto\n",
      "ciclom\n",
      "ciclista\n",
      "pedestre\n",
      "onibus\n",
      "caminhao\n",
      "viatura\n",
      "outros\n",
      "vitimas\n",
      "vitimasfatais\n",
      "acidente_verificado\n",
      "tempo_clima\n",
      "situacao_semaforo\n",
      "sinalizacao\n",
      "condicao_via\n",
      "conservacao_via\n",
      "ponto_controle\n",
      "situacao_placa\n",
      "velocidade_max_via\n",
      "mao_direcao\n",
      "divisao_via1\n",
      "divisao_via2\n",
      "divisao_via3\n"
     ]
    }
   ],
   "source": [
    "for col in base.columns:\n",
    "    print(col)"
   ]
  },
  {
   "cell_type": "code",
   "execution_count": null,
   "metadata": {},
   "outputs": [],
   "source": []
  },
  {
   "cell_type": "code",
   "execution_count": null,
   "metadata": {},
   "outputs": [],
   "source": []
  },
  {
   "cell_type": "code",
   "execution_count": null,
   "metadata": {},
   "outputs": [],
   "source": []
  }
 ],
 "metadata": {
  "kernelspec": {
   "display_name": "Python 3",
   "language": "python",
   "name": "python3"
  },
  "language_info": {
   "codemirror_mode": {
    "name": "ipython",
    "version": 3
   },
   "file_extension": ".py",
   "mimetype": "text/x-python",
   "name": "python",
   "nbconvert_exporter": "python",
   "pygments_lexer": "ipython3",
   "version": "3.11.3"
  },
  "orig_nbformat": 4
 },
 "nbformat": 4,
 "nbformat_minor": 2
}
